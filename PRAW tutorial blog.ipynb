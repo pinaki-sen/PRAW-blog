{
 "cells": [
  {
   "cell_type": "code",
   "execution_count": 11,
   "metadata": {},
   "outputs": [],
   "source": [
    "import praw\n",
    "import pandas as pd"
   ]
  },
  {
   "cell_type": "code",
   "execution_count": 12,
   "metadata": {},
   "outputs": [],
   "source": [
    "reddit = praw.Reddit(client_id = 'XlwcJiz0BUoTJQ',\n",
    "                    client_secret = '3iMmfa8XhxHAEAJ9wYzexObfQSU',\n",
    "                    usernme = 'pinaki_ps',\n",
    "                    password = 'bnt8bru-qa2',\n",
    "                    user_agent = 'PRAW Blog')"
   ]
  },
  {
   "cell_type": "code",
   "execution_count": 13,
   "metadata": {},
   "outputs": [],
   "source": [
    "subreddit_list=  ['india',\n",
    "                  'worldnews',\n",
    "                  'announcements',\n",
    "                  'funny',\n",
    "                  'AskReddit',\n",
    "                  'gaming',\n",
    "                  'pics',\n",
    "                  'science',\n",
    "                  'movies',\n",
    "                  'todayilearned'\n",
    "                 ]"
   ]
  },
  {
   "cell_type": "code",
   "execution_count": 14,
   "metadata": {},
   "outputs": [],
   "source": [
    "author_list = []\n",
    "id_list = []\n",
    "link_flair_text_list = []\n",
    "num_comments_list = []\n",
    "score_list = []\n",
    "title_list = []\n",
    "upvote_ratio_list = []"
   ]
  },
  {
   "cell_type": "code",
   "execution_count": 15,
   "metadata": {},
   "outputs": [
    {
     "name": "stdout",
     "output_type": "stream",
     "text": [
      "india completed; total 653 posts has been scraped\n",
      "worldnews completed; total 1421 posts has been scraped\n",
      "announcements completed; total 1579 posts has been scraped\n",
      "funny completed; total 2292 posts has been scraped\n",
      "AskReddit completed; total 3280 posts has been scraped\n",
      "gaming completed; total 3948 posts has been scraped\n",
      "pics completed; total 4892 posts has been scraped\n",
      "science completed; total 5538 posts has been scraped\n",
      "movies completed; total 5991 posts has been scraped\n",
      "todayilearned completed; total 6603 posts has been scraped\n"
     ]
    }
   ],
   "source": [
    "for subred in subreddit_list:\n",
    "    \n",
    "    subreddit = reddit.subreddit(subred)\n",
    "    hot_post = subreddit.hot(limit = 10000)\n",
    "\n",
    "    for sub in hot_post:\n",
    "\n",
    "        author_list.append(sub.author)\n",
    "        id_list.append(sub.id)\n",
    "        link_flair_text_list.append(sub.link_flair_text)\n",
    "        num_comments_list.append(sub.num_comments)\n",
    "        score_list.append(sub.score)\n",
    "        title_list.append(sub.title)\n",
    "        upvote_ratio_list.append(sub.upvote_ratio)\n",
    "\n",
    "    print(subred, 'completed; ', end='')\n",
    "    print('total', len(author_list), 'posts has been scraped')"
   ]
  },
  {
   "cell_type": "code",
   "execution_count": 16,
   "metadata": {},
   "outputs": [],
   "source": [
    "df = pd.DataFrame({'ID':id_list, \n",
    "                   'Author':author_list, \n",
    "                   'Title':title_list,\n",
    "                   'Count_of_Comments':num_comments_list,\n",
    "                   'Upvote_Count':score_list,\n",
    "                   'Upvote_Ratio':upvote_ratio_list,\n",
    "                   'Flair':link_flair_text_list\n",
    "                  })\n",
    "df.to_csv('reddit_dataset.csv', index = False)"
   ]
  }
 ],
 "metadata": {
  "kernelspec": {
   "display_name": "Python 3",
   "language": "python",
   "name": "python3"
  },
  "language_info": {
   "codemirror_mode": {
    "name": "ipython",
    "version": 3
   },
   "file_extension": ".py",
   "mimetype": "text/x-python",
   "name": "python",
   "nbconvert_exporter": "python",
   "pygments_lexer": "ipython3",
   "version": "3.7.6"
  }
 },
 "nbformat": 4,
 "nbformat_minor": 4
}
